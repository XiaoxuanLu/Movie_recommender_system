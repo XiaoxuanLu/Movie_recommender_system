{
 "cells": [
  {
   "cell_type": "markdown",
   "metadata": {
    "colab_type": "text",
    "id": "view-in-github"
   },
   "source": [
    "<a href=\"https://colab.research.google.com/github/XiaoxuanLu/Movie_recommender_system/blob/main/Content_based_recommendation.ipynb\" target=\"_parent\"><img src=\"https://colab.research.google.com/assets/colab-badge.svg\" alt=\"Open In Colab\"/></a>"
   ]
  },
  {
   "cell_type": "markdown",
   "metadata": {
    "id": "Kl5EfIbWfouK"
   },
   "source": [
    "We would like to build a content-based recommender system that computes similarity between movies based on certain metrics and suggests movies that are most similar to a particular movie that a user liked.\n",
    "\n",
    "\n",
    "The content-based movie recommender will be based on\n",
    "1. Movie Overviews and Taglines\n",
    "2. Movie Cast, Crew, Keywords and Genre"
   ]
  },
  {
   "cell_type": "markdown",
   "metadata": {},
   "source": [
    "## Load the dataset"
   ]
  },
  {
   "cell_type": "code",
   "execution_count": 1,
   "metadata": {
    "id": "oHS356WFh247"
   },
   "outputs": [],
   "source": [
    "import pandas as pd\n",
    "import warnings; warnings.simplefilter('ignore')\n",
    "\n",
    "links = pd.read_csv('data/links.csv')\n",
    "links = links[links['tmdbId'].notnull()]['tmdbId'].astype('int')\n",
    "md = pd.read_csv('data/movies_metadata.csv',low_memory=False)"
   ]
  },
  {
   "cell_type": "code",
   "execution_count": 2,
   "metadata": {},
   "outputs": [],
   "source": [
    "# delete the rows which have hyphen in input\n",
    "md = md.drop([19730, 29503, 35587])\n",
    "md['id'] = md['id'].astype('int')"
   ]
  },
  {
   "cell_type": "code",
   "execution_count": 3,
   "metadata": {},
   "outputs": [
    {
     "data": {
      "text/plain": [
       "(45463, 24)"
      ]
     },
     "execution_count": 3,
     "metadata": {},
     "output_type": "execute_result"
    }
   ],
   "source": [
    "# only keep the movies which are also in links \n",
    "md = md[md['id'].isin(links)]\n",
    "md.shape"
   ]
  },
  {
   "cell_type": "markdown",
   "metadata": {},
   "source": [
    "## Build a recommender based on Overview and Taglines"
   ]
  },
  {
   "cell_type": "code",
   "execution_count": 4,
   "metadata": {},
   "outputs": [
    {
     "data": {
      "text/html": [
       "<div>\n",
       "<style scoped>\n",
       "    .dataframe tbody tr th:only-of-type {\n",
       "        vertical-align: middle;\n",
       "    }\n",
       "\n",
       "    .dataframe tbody tr th {\n",
       "        vertical-align: top;\n",
       "    }\n",
       "\n",
       "    .dataframe thead th {\n",
       "        text-align: right;\n",
       "    }\n",
       "</style>\n",
       "<table border=\"1\" class=\"dataframe\">\n",
       "  <thead>\n",
       "    <tr style=\"text-align: right;\">\n",
       "      <th></th>\n",
       "      <th>adult</th>\n",
       "      <th>belongs_to_collection</th>\n",
       "      <th>budget</th>\n",
       "      <th>genres</th>\n",
       "      <th>homepage</th>\n",
       "      <th>id</th>\n",
       "      <th>imdb_id</th>\n",
       "      <th>original_language</th>\n",
       "      <th>original_title</th>\n",
       "      <th>overview</th>\n",
       "      <th>...</th>\n",
       "      <th>release_date</th>\n",
       "      <th>revenue</th>\n",
       "      <th>runtime</th>\n",
       "      <th>spoken_languages</th>\n",
       "      <th>status</th>\n",
       "      <th>tagline</th>\n",
       "      <th>title</th>\n",
       "      <th>video</th>\n",
       "      <th>vote_average</th>\n",
       "      <th>vote_count</th>\n",
       "    </tr>\n",
       "  </thead>\n",
       "  <tbody>\n",
       "    <tr>\n",
       "      <td>0</td>\n",
       "      <td>False</td>\n",
       "      <td>{'id': 10194, 'name': 'Toy Story Collection', ...</td>\n",
       "      <td>30000000</td>\n",
       "      <td>[{'id': 16, 'name': 'Animation'}, {'id': 35, '...</td>\n",
       "      <td>http://toystory.disney.com/toy-story</td>\n",
       "      <td>862</td>\n",
       "      <td>tt0114709</td>\n",
       "      <td>en</td>\n",
       "      <td>Toy Story</td>\n",
       "      <td>Led by Woody, Andy's toys live happily in his ...</td>\n",
       "      <td>...</td>\n",
       "      <td>1995-10-30</td>\n",
       "      <td>373554033.0</td>\n",
       "      <td>81.0</td>\n",
       "      <td>[{'iso_639_1': 'en', 'name': 'English'}]</td>\n",
       "      <td>Released</td>\n",
       "      <td>NaN</td>\n",
       "      <td>Toy Story</td>\n",
       "      <td>False</td>\n",
       "      <td>7.7</td>\n",
       "      <td>5415.0</td>\n",
       "    </tr>\n",
       "    <tr>\n",
       "      <td>1</td>\n",
       "      <td>False</td>\n",
       "      <td>NaN</td>\n",
       "      <td>65000000</td>\n",
       "      <td>[{'id': 12, 'name': 'Adventure'}, {'id': 14, '...</td>\n",
       "      <td>NaN</td>\n",
       "      <td>8844</td>\n",
       "      <td>tt0113497</td>\n",
       "      <td>en</td>\n",
       "      <td>Jumanji</td>\n",
       "      <td>When siblings Judy and Peter discover an encha...</td>\n",
       "      <td>...</td>\n",
       "      <td>1995-12-15</td>\n",
       "      <td>262797249.0</td>\n",
       "      <td>104.0</td>\n",
       "      <td>[{'iso_639_1': 'en', 'name': 'English'}, {'iso...</td>\n",
       "      <td>Released</td>\n",
       "      <td>Roll the dice and unleash the excitement!</td>\n",
       "      <td>Jumanji</td>\n",
       "      <td>False</td>\n",
       "      <td>6.9</td>\n",
       "      <td>2413.0</td>\n",
       "    </tr>\n",
       "    <tr>\n",
       "      <td>2</td>\n",
       "      <td>False</td>\n",
       "      <td>{'id': 119050, 'name': 'Grumpy Old Men Collect...</td>\n",
       "      <td>0</td>\n",
       "      <td>[{'id': 10749, 'name': 'Romance'}, {'id': 35, ...</td>\n",
       "      <td>NaN</td>\n",
       "      <td>15602</td>\n",
       "      <td>tt0113228</td>\n",
       "      <td>en</td>\n",
       "      <td>Grumpier Old Men</td>\n",
       "      <td>A family wedding reignites the ancient feud be...</td>\n",
       "      <td>...</td>\n",
       "      <td>1995-12-22</td>\n",
       "      <td>0.0</td>\n",
       "      <td>101.0</td>\n",
       "      <td>[{'iso_639_1': 'en', 'name': 'English'}]</td>\n",
       "      <td>Released</td>\n",
       "      <td>Still Yelling. Still Fighting. Still Ready for...</td>\n",
       "      <td>Grumpier Old Men</td>\n",
       "      <td>False</td>\n",
       "      <td>6.5</td>\n",
       "      <td>92.0</td>\n",
       "    </tr>\n",
       "    <tr>\n",
       "      <td>3</td>\n",
       "      <td>False</td>\n",
       "      <td>NaN</td>\n",
       "      <td>16000000</td>\n",
       "      <td>[{'id': 35, 'name': 'Comedy'}, {'id': 18, 'nam...</td>\n",
       "      <td>NaN</td>\n",
       "      <td>31357</td>\n",
       "      <td>tt0114885</td>\n",
       "      <td>en</td>\n",
       "      <td>Waiting to Exhale</td>\n",
       "      <td>Cheated on, mistreated and stepped on, the wom...</td>\n",
       "      <td>...</td>\n",
       "      <td>1995-12-22</td>\n",
       "      <td>81452156.0</td>\n",
       "      <td>127.0</td>\n",
       "      <td>[{'iso_639_1': 'en', 'name': 'English'}]</td>\n",
       "      <td>Released</td>\n",
       "      <td>Friends are the people who let you be yourself...</td>\n",
       "      <td>Waiting to Exhale</td>\n",
       "      <td>False</td>\n",
       "      <td>6.1</td>\n",
       "      <td>34.0</td>\n",
       "    </tr>\n",
       "    <tr>\n",
       "      <td>4</td>\n",
       "      <td>False</td>\n",
       "      <td>{'id': 96871, 'name': 'Father of the Bride Col...</td>\n",
       "      <td>0</td>\n",
       "      <td>[{'id': 35, 'name': 'Comedy'}]</td>\n",
       "      <td>NaN</td>\n",
       "      <td>11862</td>\n",
       "      <td>tt0113041</td>\n",
       "      <td>en</td>\n",
       "      <td>Father of the Bride Part II</td>\n",
       "      <td>Just when George Banks has recovered from his ...</td>\n",
       "      <td>...</td>\n",
       "      <td>1995-02-10</td>\n",
       "      <td>76578911.0</td>\n",
       "      <td>106.0</td>\n",
       "      <td>[{'iso_639_1': 'en', 'name': 'English'}]</td>\n",
       "      <td>Released</td>\n",
       "      <td>Just When His World Is Back To Normal... He's ...</td>\n",
       "      <td>Father of the Bride Part II</td>\n",
       "      <td>False</td>\n",
       "      <td>5.7</td>\n",
       "      <td>173.0</td>\n",
       "    </tr>\n",
       "    <tr>\n",
       "      <td>...</td>\n",
       "      <td>...</td>\n",
       "      <td>...</td>\n",
       "      <td>...</td>\n",
       "      <td>...</td>\n",
       "      <td>...</td>\n",
       "      <td>...</td>\n",
       "      <td>...</td>\n",
       "      <td>...</td>\n",
       "      <td>...</td>\n",
       "      <td>...</td>\n",
       "      <td>...</td>\n",
       "      <td>...</td>\n",
       "      <td>...</td>\n",
       "      <td>...</td>\n",
       "      <td>...</td>\n",
       "      <td>...</td>\n",
       "      <td>...</td>\n",
       "      <td>...</td>\n",
       "      <td>...</td>\n",
       "      <td>...</td>\n",
       "      <td>...</td>\n",
       "    </tr>\n",
       "    <tr>\n",
       "      <td>45461</td>\n",
       "      <td>False</td>\n",
       "      <td>NaN</td>\n",
       "      <td>0</td>\n",
       "      <td>[{'id': 18, 'name': 'Drama'}, {'id': 10751, 'n...</td>\n",
       "      <td>http://www.imdb.com/title/tt6209470/</td>\n",
       "      <td>439050</td>\n",
       "      <td>tt6209470</td>\n",
       "      <td>fa</td>\n",
       "      <td>رگ خواب</td>\n",
       "      <td>Rising and falling between a man and woman.</td>\n",
       "      <td>...</td>\n",
       "      <td>NaN</td>\n",
       "      <td>0.0</td>\n",
       "      <td>90.0</td>\n",
       "      <td>[{'iso_639_1': 'fa', 'name': 'فارسی'}]</td>\n",
       "      <td>Released</td>\n",
       "      <td>Rising and falling between a man and woman</td>\n",
       "      <td>Subdue</td>\n",
       "      <td>False</td>\n",
       "      <td>4.0</td>\n",
       "      <td>1.0</td>\n",
       "    </tr>\n",
       "    <tr>\n",
       "      <td>45462</td>\n",
       "      <td>False</td>\n",
       "      <td>NaN</td>\n",
       "      <td>0</td>\n",
       "      <td>[{'id': 18, 'name': 'Drama'}]</td>\n",
       "      <td>NaN</td>\n",
       "      <td>111109</td>\n",
       "      <td>tt2028550</td>\n",
       "      <td>tl</td>\n",
       "      <td>Siglo ng Pagluluwal</td>\n",
       "      <td>An artist struggles to finish his work while a...</td>\n",
       "      <td>...</td>\n",
       "      <td>2011-11-17</td>\n",
       "      <td>0.0</td>\n",
       "      <td>360.0</td>\n",
       "      <td>[{'iso_639_1': 'tl', 'name': ''}]</td>\n",
       "      <td>Released</td>\n",
       "      <td>NaN</td>\n",
       "      <td>Century of Birthing</td>\n",
       "      <td>False</td>\n",
       "      <td>9.0</td>\n",
       "      <td>3.0</td>\n",
       "    </tr>\n",
       "    <tr>\n",
       "      <td>45463</td>\n",
       "      <td>False</td>\n",
       "      <td>NaN</td>\n",
       "      <td>0</td>\n",
       "      <td>[{'id': 28, 'name': 'Action'}, {'id': 18, 'nam...</td>\n",
       "      <td>NaN</td>\n",
       "      <td>67758</td>\n",
       "      <td>tt0303758</td>\n",
       "      <td>en</td>\n",
       "      <td>Betrayal</td>\n",
       "      <td>When one of her hits goes wrong, a professiona...</td>\n",
       "      <td>...</td>\n",
       "      <td>2003-08-01</td>\n",
       "      <td>0.0</td>\n",
       "      <td>90.0</td>\n",
       "      <td>[{'iso_639_1': 'en', 'name': 'English'}]</td>\n",
       "      <td>Released</td>\n",
       "      <td>A deadly game of wits.</td>\n",
       "      <td>Betrayal</td>\n",
       "      <td>False</td>\n",
       "      <td>3.8</td>\n",
       "      <td>6.0</td>\n",
       "    </tr>\n",
       "    <tr>\n",
       "      <td>45464</td>\n",
       "      <td>False</td>\n",
       "      <td>NaN</td>\n",
       "      <td>0</td>\n",
       "      <td>[]</td>\n",
       "      <td>NaN</td>\n",
       "      <td>227506</td>\n",
       "      <td>tt0008536</td>\n",
       "      <td>en</td>\n",
       "      <td>Satana likuyushchiy</td>\n",
       "      <td>In a small town live two brothers, one a minis...</td>\n",
       "      <td>...</td>\n",
       "      <td>1917-10-21</td>\n",
       "      <td>0.0</td>\n",
       "      <td>87.0</td>\n",
       "      <td>[]</td>\n",
       "      <td>Released</td>\n",
       "      <td>NaN</td>\n",
       "      <td>Satan Triumphant</td>\n",
       "      <td>False</td>\n",
       "      <td>0.0</td>\n",
       "      <td>0.0</td>\n",
       "    </tr>\n",
       "    <tr>\n",
       "      <td>45465</td>\n",
       "      <td>False</td>\n",
       "      <td>NaN</td>\n",
       "      <td>0</td>\n",
       "      <td>[]</td>\n",
       "      <td>NaN</td>\n",
       "      <td>461257</td>\n",
       "      <td>tt6980792</td>\n",
       "      <td>en</td>\n",
       "      <td>Queerama</td>\n",
       "      <td>50 years after decriminalisation of homosexual...</td>\n",
       "      <td>...</td>\n",
       "      <td>2017-06-09</td>\n",
       "      <td>0.0</td>\n",
       "      <td>75.0</td>\n",
       "      <td>[{'iso_639_1': 'en', 'name': 'English'}]</td>\n",
       "      <td>Released</td>\n",
       "      <td>NaN</td>\n",
       "      <td>Queerama</td>\n",
       "      <td>False</td>\n",
       "      <td>0.0</td>\n",
       "      <td>0.0</td>\n",
       "    </tr>\n",
       "  </tbody>\n",
       "</table>\n",
       "<p>45463 rows × 24 columns</p>\n",
       "</div>"
      ],
      "text/plain": [
       "       adult                              belongs_to_collection    budget  \\\n",
       "0      False  {'id': 10194, 'name': 'Toy Story Collection', ...  30000000   \n",
       "1      False                                                NaN  65000000   \n",
       "2      False  {'id': 119050, 'name': 'Grumpy Old Men Collect...         0   \n",
       "3      False                                                NaN  16000000   \n",
       "4      False  {'id': 96871, 'name': 'Father of the Bride Col...         0   \n",
       "...      ...                                                ...       ...   \n",
       "45461  False                                                NaN         0   \n",
       "45462  False                                                NaN         0   \n",
       "45463  False                                                NaN         0   \n",
       "45464  False                                                NaN         0   \n",
       "45465  False                                                NaN         0   \n",
       "\n",
       "                                                  genres  \\\n",
       "0      [{'id': 16, 'name': 'Animation'}, {'id': 35, '...   \n",
       "1      [{'id': 12, 'name': 'Adventure'}, {'id': 14, '...   \n",
       "2      [{'id': 10749, 'name': 'Romance'}, {'id': 35, ...   \n",
       "3      [{'id': 35, 'name': 'Comedy'}, {'id': 18, 'nam...   \n",
       "4                         [{'id': 35, 'name': 'Comedy'}]   \n",
       "...                                                  ...   \n",
       "45461  [{'id': 18, 'name': 'Drama'}, {'id': 10751, 'n...   \n",
       "45462                      [{'id': 18, 'name': 'Drama'}]   \n",
       "45463  [{'id': 28, 'name': 'Action'}, {'id': 18, 'nam...   \n",
       "45464                                                 []   \n",
       "45465                                                 []   \n",
       "\n",
       "                                   homepage      id    imdb_id  \\\n",
       "0      http://toystory.disney.com/toy-story     862  tt0114709   \n",
       "1                                       NaN    8844  tt0113497   \n",
       "2                                       NaN   15602  tt0113228   \n",
       "3                                       NaN   31357  tt0114885   \n",
       "4                                       NaN   11862  tt0113041   \n",
       "...                                     ...     ...        ...   \n",
       "45461  http://www.imdb.com/title/tt6209470/  439050  tt6209470   \n",
       "45462                                   NaN  111109  tt2028550   \n",
       "45463                                   NaN   67758  tt0303758   \n",
       "45464                                   NaN  227506  tt0008536   \n",
       "45465                                   NaN  461257  tt6980792   \n",
       "\n",
       "      original_language               original_title  \\\n",
       "0                    en                    Toy Story   \n",
       "1                    en                      Jumanji   \n",
       "2                    en             Grumpier Old Men   \n",
       "3                    en            Waiting to Exhale   \n",
       "4                    en  Father of the Bride Part II   \n",
       "...                 ...                          ...   \n",
       "45461                fa                      رگ خواب   \n",
       "45462                tl          Siglo ng Pagluluwal   \n",
       "45463                en                     Betrayal   \n",
       "45464                en          Satana likuyushchiy   \n",
       "45465                en                     Queerama   \n",
       "\n",
       "                                                overview  ... release_date  \\\n",
       "0      Led by Woody, Andy's toys live happily in his ...  ...   1995-10-30   \n",
       "1      When siblings Judy and Peter discover an encha...  ...   1995-12-15   \n",
       "2      A family wedding reignites the ancient feud be...  ...   1995-12-22   \n",
       "3      Cheated on, mistreated and stepped on, the wom...  ...   1995-12-22   \n",
       "4      Just when George Banks has recovered from his ...  ...   1995-02-10   \n",
       "...                                                  ...  ...          ...   \n",
       "45461        Rising and falling between a man and woman.  ...          NaN   \n",
       "45462  An artist struggles to finish his work while a...  ...   2011-11-17   \n",
       "45463  When one of her hits goes wrong, a professiona...  ...   2003-08-01   \n",
       "45464  In a small town live two brothers, one a minis...  ...   1917-10-21   \n",
       "45465  50 years after decriminalisation of homosexual...  ...   2017-06-09   \n",
       "\n",
       "           revenue runtime                                   spoken_languages  \\\n",
       "0      373554033.0    81.0           [{'iso_639_1': 'en', 'name': 'English'}]   \n",
       "1      262797249.0   104.0  [{'iso_639_1': 'en', 'name': 'English'}, {'iso...   \n",
       "2              0.0   101.0           [{'iso_639_1': 'en', 'name': 'English'}]   \n",
       "3       81452156.0   127.0           [{'iso_639_1': 'en', 'name': 'English'}]   \n",
       "4       76578911.0   106.0           [{'iso_639_1': 'en', 'name': 'English'}]   \n",
       "...            ...     ...                                                ...   \n",
       "45461          0.0    90.0             [{'iso_639_1': 'fa', 'name': 'فارسی'}]   \n",
       "45462          0.0   360.0                  [{'iso_639_1': 'tl', 'name': ''}]   \n",
       "45463          0.0    90.0           [{'iso_639_1': 'en', 'name': 'English'}]   \n",
       "45464          0.0    87.0                                                 []   \n",
       "45465          0.0    75.0           [{'iso_639_1': 'en', 'name': 'English'}]   \n",
       "\n",
       "         status                                            tagline  \\\n",
       "0      Released                                                NaN   \n",
       "1      Released          Roll the dice and unleash the excitement!   \n",
       "2      Released  Still Yelling. Still Fighting. Still Ready for...   \n",
       "3      Released  Friends are the people who let you be yourself...   \n",
       "4      Released  Just When His World Is Back To Normal... He's ...   \n",
       "...         ...                                                ...   \n",
       "45461  Released         Rising and falling between a man and woman   \n",
       "45462  Released                                                NaN   \n",
       "45463  Released                             A deadly game of wits.   \n",
       "45464  Released                                                NaN   \n",
       "45465  Released                                                NaN   \n",
       "\n",
       "                             title  video vote_average vote_count  \n",
       "0                        Toy Story  False          7.7     5415.0  \n",
       "1                          Jumanji  False          6.9     2413.0  \n",
       "2                 Grumpier Old Men  False          6.5       92.0  \n",
       "3                Waiting to Exhale  False          6.1       34.0  \n",
       "4      Father of the Bride Part II  False          5.7      173.0  \n",
       "...                            ...    ...          ...        ...  \n",
       "45461                       Subdue  False          4.0        1.0  \n",
       "45462          Century of Birthing  False          9.0        3.0  \n",
       "45463                     Betrayal  False          3.8        6.0  \n",
       "45464             Satan Triumphant  False          0.0        0.0  \n",
       "45465                     Queerama  False          0.0        0.0  \n",
       "\n",
       "[45463 rows x 24 columns]"
      ]
     },
     "execution_count": 4,
     "metadata": {},
     "output_type": "execute_result"
    }
   ],
   "source": [
    "md"
   ]
  },
  {
   "cell_type": "code",
   "execution_count": 5,
   "metadata": {},
   "outputs": [
    {
     "data": {
      "text/plain": [
       "954"
      ]
     },
     "execution_count": 5,
     "metadata": {},
     "output_type": "execute_result"
    }
   ],
   "source": [
    "md['overview'].isnull().sum()"
   ]
  },
  {
   "cell_type": "code",
   "execution_count": 6,
   "metadata": {},
   "outputs": [
    {
     "data": {
      "text/plain": [
       "25051"
      ]
     },
     "execution_count": 6,
     "metadata": {},
     "output_type": "execute_result"
    }
   ],
   "source": [
    "md['tagline'].isnull().sum()"
   ]
  },
  {
   "cell_type": "code",
   "execution_count": 7,
   "metadata": {},
   "outputs": [],
   "source": [
    "md['tagline'] = md['tagline'].fillna('')\n",
    "md['overview'] = md['overview'].fillna('')"
   ]
  },
  {
   "cell_type": "code",
   "execution_count": 8,
   "metadata": {},
   "outputs": [
    {
     "name": "stdout",
     "output_type": "stream",
     "text": [
      "0\n",
      "0\n"
     ]
    }
   ],
   "source": [
    "print(md['tagline'].isnull().sum())\n",
    "print(md['overview'].isnull().sum())"
   ]
  },
  {
   "cell_type": "code",
   "execution_count": 9,
   "metadata": {},
   "outputs": [],
   "source": [
    "md['general'] = md['overview'] + md['tagline']"
   ]
  },
  {
   "cell_type": "markdown",
   "metadata": {},
   "source": [
    "### Preprocess the general information"
   ]
  },
  {
   "cell_type": "code",
   "execution_count": 10,
   "metadata": {},
   "outputs": [],
   "source": [
    "from nltk.tokenize import word_tokenize\n",
    "from nltk.stem import WordNetLemmatizer\n",
    "import re\n",
    "import string\n",
    "\n",
    "lemmatizer = WordNetLemmatizer()\n",
    "\n",
    "def tokenize(text):\n",
    "    return word_tokenize(text)\n",
    "\n",
    "def lemmatize(words):\n",
    "    words = [lemmatizer.lemmatize(word) for word in words]\n",
    "    return words\n",
    "    \n",
    "# Lower casing\n",
    "def lower(text):\n",
    "    low_text = text.lower()\n",
    "    return low_text\n",
    "\n",
    "def remove_html(text):\n",
    "    html = re.compile(r'<.*?>')\n",
    "    return html.sub(r'', text)\n",
    "\n",
    "# Number removal\n",
    "def remove_num(text):\n",
    "    remove = re.sub(r'[^a-zA-Z ]', '' ,text)\n",
    "    return remove\n",
    "\n",
    "def remove_space(text):\n",
    "    remove = text.replace(r'( +)',\" \")\n",
    "    return remove.strip()\n",
    "    \n",
    "\n",
    "# punctuation_removal\n",
    "def punctuation_removal(messy_str):\n",
    "    clean_list = [char for char in messy_str if char not in string.punctuation]\n",
    "    clean_str = ''.join(clean_list)\n",
    "    return clean_str\n",
    "\n",
    "# convert a list into string\n",
    "def list_str(lst):\n",
    "    return ' '.join([str(item) for item in lst])"
   ]
  },
  {
   "cell_type": "code",
   "execution_count": 11,
   "metadata": {},
   "outputs": [],
   "source": [
    "md['general'] = md['general'].apply(lambda x: remove_html(x))\n",
    "md['general'] = md['general'].apply(lambda x: remove_num(x))\n",
    "md['general'] = md['general'].apply(lambda x: remove_space(x))\n",
    "md['general'] = md['general'].apply(lambda x: punctuation_removal(x))\n",
    "md['general'] = md['general'].apply(lambda x: lower(x))\n",
    "md['general'] = md['general'].apply(lambda x: tokenize(x))\n",
    "md['general'] = md['general'].apply(lambda x: lemmatize(x))\n",
    "md['general'] = md['general'].apply(lambda x: list_str(x))"
   ]
  },
  {
   "cell_type": "markdown",
   "metadata": {},
   "source": [
    "### Similarity Methods\n",
    "#### 1. Cosine Similarity with TF-IDF"
   ]
  },
  {
   "cell_type": "code",
   "execution_count": 37,
   "metadata": {},
   "outputs": [],
   "source": [
    "from sklearn.feature_extraction.text import TfidfVectorizer\n",
    "from sklearn.metrics.pairwise import linear_kernel, cosine_similarity\n",
    "vectorizer = TfidfVectorizer(analyzer='word',ngram_range=(1, 2),min_df=0, stop_words='english')\n",
    "tfidf_matrix = vectorizer.fit_transform(md['general'])"
   ]
  },
  {
   "cell_type": "code",
   "execution_count": 38,
   "metadata": {},
   "outputs": [],
   "source": [
    "cs = linear_kernel(tfidf_matrix, tfidf_matrix)\n"
   ]
  },
  {
   "cell_type": "code",
   "execution_count": 39,
   "metadata": {},
   "outputs": [
    {
     "data": {
      "text/plain": [
       "array([1.        , 0.00499328, 0.        , ..., 0.        , 0.00239637,\n",
       "       0.        ])"
      ]
     },
     "execution_count": 39,
     "metadata": {},
     "output_type": "execute_result"
    }
   ],
   "source": [
    "cs[0]"
   ]
  },
  {
   "cell_type": "code",
   "execution_count": 14,
   "metadata": {},
   "outputs": [],
   "source": [
    "md = md.reset_index()\n",
    "movies = pd.Series(md.index, index=md['title'])"
   ]
  },
  {
   "cell_type": "markdown",
   "metadata": {},
   "source": [
    "We implemented a method called get_recommendations_cs, which utilized the TF-IDF based cosine similarity method to find the most similar movies for users. Users can choose the number of moview they want the system to recommend, and also they can choose to input the minimum rating of the moviews the system could recommend. "
   ]
  },
  {
   "cell_type": "code",
   "execution_count": 26,
   "metadata": {},
   "outputs": [],
   "source": [
    "def get_recommendations_cs(title, n=20, vote = 0):\n",
    "    idx = movies[title]\n",
    "    if isinstance(idx, pd.Series):\n",
    "        idx = idx.iloc[0]\n",
    "    scores = list(enumerate(cs[idx]))\n",
    "    scores = sorted(scores, key=lambda x: x[1], reverse=True)\n",
    "    indices = [i[0] for i in scores]\n",
    "    votes = list(md['vote_average'].iloc[indices])\n",
    "    qualified_scores = []\n",
    "    for i in range(len(votes)):\n",
    "        if votes[i] >= vote:\n",
    "            qualified_scores.append(scores[i])\n",
    "    qualified_scores = qualified_scores[1:n+1]\n",
    "    indices = [i[0] for i in qualified_scores]\n",
    "    return md['title'].iloc[indices]"
   ]
  },
  {
   "cell_type": "markdown",
   "metadata": {},
   "source": [
    "#### Test the first method"
   ]
  },
  {
   "cell_type": "code",
   "execution_count": 16,
   "metadata": {},
   "outputs": [
    {
     "data": {
      "text/plain": [
       "18252                                The Dark Knight Rises\n",
       "21193    Batman Unmasked: The Psychology of the Dark Kn...\n",
       "15511                           Batman: Under the Red Hood\n",
       "23870                            In Order of Disappearance\n",
       "41979    Batman Beyond Darwyn Cooke's Batman 75th Anniv...\n",
       "18035                                     Batman: Year One\n",
       "19791              Batman: The Dark Knight Returns, Part 1\n",
       "3267                                                   JFK\n",
       "3095                          Batman: Mask of the Phantasm\n",
       "20231              Batman: The Dark Knight Returns, Part 2\n",
       "Name: title, dtype: object"
      ]
     },
     "execution_count": 16,
     "metadata": {},
     "output_type": "execute_result"
    }
   ],
   "source": [
    "get_recommendations_cs('The Dark Knight',10,7)"
   ]
  },
  {
   "cell_type": "markdown",
   "metadata": {},
   "source": [
    "#### 2. Kullback–Leibler divergence\n",
    "\n",
    "Compared with the first method, KLD method is too slow to process, so it's not a good choice for the movie recommender system. Therefore, we choose to utilize the cosine similarity with TF-IDF as the primary method for the content-based recommender system in the project."
   ]
  },
  {
   "cell_type": "code",
   "execution_count": 69,
   "metadata": {},
   "outputs": [],
   "source": [
    "import collections\n",
    "import math\n",
    "\n",
    "def get_counts(word_list):\n",
    "    return collections.Counter(word_list)\n",
    "\n",
    "\n",
    "def create_prob_dist(count_dict):\n",
    "    total_ct = sum(count_dict.values())\n",
    "    p = {x: ct / total_ct for x, ct in count_dict.items()}\n",
    "    return p\n",
    "\n",
    "\n",
    "def count_smoothing(freq_dist, vocabulary, alpha=1):\n",
    "    return {w: freq_dist.get(w, 0) + alpha for w in vocabulary}\n",
    "\n",
    "\n",
    "def entropy(p):\n",
    "\n",
    "    h = 0\n",
    "    for x in p:\n",
    "        h -= p[x] * math.log(p[x])\n",
    "\n",
    "    return h\n",
    "\n",
    "\n",
    "def cross_entropy(p1, p2):\n",
    "    xh = 0\n",
    "    for x in p1:\n",
    "        xh -= p1[x] * math.log(p2[x])\n",
    "\n",
    "    return xh\n",
    "\n",
    "\n",
    "def kl_divergence(p1, p2):\n",
    "    kl = 0\n",
    "    kl = cross_entropy(p1, p2) - entropy(p1)\n",
    "\n",
    "    return kl"
   ]
  },
  {
   "cell_type": "code",
   "execution_count": 70,
   "metadata": {},
   "outputs": [],
   "source": [
    "md['general_tokens'] = md['general'].apply(lambda x: tokenize(x))\n",
    "md['counts'] = md['general_tokens'].apply(lambda x: get_counts(x))"
   ]
  },
  {
   "cell_type": "code",
   "execution_count": null,
   "metadata": {},
   "outputs": [],
   "source": [
    "def get_recommendations_kld(title, n, vote = 0):\n",
    "    idx = movies[title]\n",
    "    ct_a = md['counts'].iloc[idx]\n",
    "    kld = []\n",
    "    scores = list(enumerate(md['counts']))\n",
    "    for i in scores:\n",
    "        vocab = set(ct_a.keys()) | set(i[1].keys())\n",
    "        ct_a = count_smoothing(ct_a, vocab)\n",
    "        ct_b = count_smoothing(i[1], vocab)\n",
    "        p_a = create_prob_dist(ct_a)\n",
    "        p_b = create_prob_dist(ct_b)\n",
    "        kl_ab = kl_divergence(p_a, p_b)\n",
    "        kld.append((i[0], kl_ab))\n",
    "\n",
    "    kld = sorted(kld, key=lambda x: x[1])\n",
    "    indices = [i[0] for i in kld]\n",
    "    votes = list(md['vote_average'].iloc[indices])\n",
    "    qualified_scores = []\n",
    "    for i in range(len(votes)):\n",
    "        if votes[i] >= vote:\n",
    "            qualified_scores.append(scores[i])\n",
    "    qualified_scores = qualified_scores[1:n+1]\n",
    "    indices = [i[0] for i in qualified_scores]\n",
    "    return md['title'].iloc[indices]"
   ]
  },
  {
   "cell_type": "markdown",
   "metadata": {},
   "source": [
    "## Build a recommender based on Movie Cast, Crew, Keywords and Genre"
   ]
  },
  {
   "cell_type": "markdown",
   "metadata": {},
   "source": [
    "### Merge the dataset"
   ]
  },
  {
   "cell_type": "code",
   "execution_count": 12,
   "metadata": {},
   "outputs": [],
   "source": [
    "credits = pd.read_csv('data/credits.csv')\n",
    "keywords = pd.read_csv('data/keywords.csv')"
   ]
  },
  {
   "cell_type": "code",
   "execution_count": 13,
   "metadata": {},
   "outputs": [],
   "source": [
    "keywords['id'] = keywords['id'].astype('int')\n",
    "credits['id'] = credits['id'].astype('int')"
   ]
  },
  {
   "cell_type": "code",
   "execution_count": 14,
   "metadata": {},
   "outputs": [],
   "source": [
    "# merge the credits and keywords to md by 'id'\n",
    "md = md.merge(credits, on='id')\n",
    "md = md.merge(keywords, on='id')"
   ]
  },
  {
   "cell_type": "code",
   "execution_count": 15,
   "metadata": {},
   "outputs": [
    {
     "data": {
      "text/plain": [
       "(46628, 28)"
      ]
     },
     "execution_count": 15,
     "metadata": {},
     "output_type": "execute_result"
    }
   ],
   "source": [
    "# only keep the movies which are also in links \n",
    "md = md[md['id'].isin(links)]\n",
    "md.shape"
   ]
  },
  {
   "cell_type": "code",
   "execution_count": 16,
   "metadata": {},
   "outputs": [],
   "source": [
    "from ast import literal_eval\n",
    "md['cast'] = md['cast'].apply(literal_eval)\n",
    "md['crew'] = md['crew'].apply(literal_eval)\n",
    "md['keywords'] = md['keywords'].apply(literal_eval)\n",
    "md['genres'] = md['genres'].apply(literal_eval)"
   ]
  },
  {
   "cell_type": "markdown",
   "metadata": {},
   "source": [
    "### Preprocess the genre, cast, crew and keywords"
   ]
  },
  {
   "cell_type": "code",
   "execution_count": 19,
   "metadata": {},
   "outputs": [
    {
     "name": "stdout",
     "output_type": "stream",
     "text": [
      "Executive Producer Screenplay Original Music Composer Director Editor Casting Animation Supervisor Production Design Producer Executive Producer Executive Producer Director of Photography Novel Producer Screenplay Screenplay "
     ]
    }
   ],
   "source": [
    "# To check what jobs inside of the crew\n",
    "for i in md['crew'][1]:\n",
    "    print(i['job'],end=' ')"
   ]
  },
  {
   "cell_type": "markdown",
   "metadata": {},
   "source": [
    "1. In the crew, we assume that most users concern about the Director and Screenplay, so we would like to keep director and screenplay in the crew. To expand the weight of director and screeplay, we will multiply the director'name by 5 and screenplay'name by 3. \n",
    "\n",
    "2. For cast, we want to keep the first five actors or actresses since they are the primary characters. \n",
    "\n",
    "3. We store the keywords of a movie in a list"
   ]
  },
  {
   "cell_type": "code",
   "execution_count": 17,
   "metadata": {},
   "outputs": [],
   "source": [
    "import numpy as np\n",
    "def get_director(crew):\n",
    "    for c in crew:\n",
    "        if c['job'] == 'Director':\n",
    "            return [c['name']] * 5\n",
    "    return np.nan\n",
    "\n",
    "def get_screenplay(crew):\n",
    "    for c in crew:\n",
    "        if c['job'] == 'Screenplay':\n",
    "            return [c['name']] * 3\n",
    "    return np.nan\n",
    "\n",
    "def get_five_actors(cast):\n",
    "    l = []\n",
    "    for c in cast:\n",
    "        l.append(c['name'])\n",
    "    return l[:5]\n",
    "\n",
    "def get_genres(genres):\n",
    "    l = []\n",
    "    for g in genres:\n",
    "        l.append(g['name'])\n",
    "    return l"
   ]
  },
  {
   "cell_type": "code",
   "execution_count": 18,
   "metadata": {},
   "outputs": [],
   "source": [
    "md['director'] = md['crew'].apply(get_director)\n",
    "md['screenplay'] = md['crew'].apply(get_screenplay)\n",
    "md['cast'] = md['cast'].apply(get_five_actors)\n",
    "md['keywords'] = md['keywords'].apply(lambda x: [i['name'] for i in x] if isinstance(x, list) else [])\n",
    "md['genres'] = md['genres'].apply(get_genres)"
   ]
  },
  {
   "cell_type": "code",
   "execution_count": 19,
   "metadata": {},
   "outputs": [],
   "source": [
    "md['meta'] = md['director'] + md['screenplay'] + md ['cast'] + md['keywords'] + md['genres']"
   ]
  },
  {
   "cell_type": "code",
   "execution_count": 20,
   "metadata": {},
   "outputs": [],
   "source": [
    "md['meta'] = md['meta'].fillna('')\n",
    "md['meta'] = md['meta'].apply(lambda x: list_str(x))\n",
    "md['meta'] = md['meta'].apply(lambda x: lower(x))\n",
    "md['meta'] = md['meta'].apply(lambda x: tokenize(x))\n",
    "md['meta'] = md['meta'].apply(lambda x: lemmatize(x))\n",
    "md['meta'] = md['meta'].apply(lambda x: list_str(x))"
   ]
  },
  {
   "cell_type": "markdown",
   "metadata": {},
   "source": [
    "### Build the second recommender\n",
    "\n",
    "This time we try to use the CountVectorizer to measure the cosine similarity. The second recommender will be based on movie, cast, crew, and keywords"
   ]
  },
  {
   "cell_type": "code",
   "execution_count": 40,
   "metadata": {},
   "outputs": [],
   "source": [
    "from sklearn.feature_extraction.text import CountVectorizer\n",
    "from sklearn.metrics.pairwise import linear_kernel, cosine_similarity\n",
    "\n",
    "cv = CountVectorizer(analyzer='word',ngram_range=(1, 2),min_df=0, stop_words='english')\n",
    "cv_matrix = cv.fit_transform(md['meta'])"
   ]
  },
  {
   "cell_type": "code",
   "execution_count": 41,
   "metadata": {},
   "outputs": [],
   "source": [
    "alter = cosine_similarity(cv_matrix, cv_matrix)"
   ]
  },
  {
   "cell_type": "code",
   "execution_count": 44,
   "metadata": {},
   "outputs": [],
   "source": [
    "md = md.reset_index()\n",
    "movies = pd.Series(md.index, index=md['title'])"
   ]
  },
  {
   "cell_type": "markdown",
   "metadata": {},
   "source": [
    "At this time, we improve the previous recommender to make the user to choose which recommender they would like to use. The default recommender will be based on tagline and overview, but if they want to recommend the moview based on the genre, cast, crew, and keywords, they can change the recommender from default to alter. "
   ]
  },
  {
   "cell_type": "code",
   "execution_count": 49,
   "metadata": {},
   "outputs": [],
   "source": [
    "def get_recommendations_cs(title, n=20, vote = 0, recommender = cs):\n",
    "    idx = movies[title]\n",
    "    if isinstance(idx, pd.Series):\n",
    "        idx = idx.iloc[0]\n",
    "    scores = list(enumerate(recommender[idx]))\n",
    "    scores = sorted(scores, key=lambda x: x[1], reverse=True)\n",
    "    indices = [i[0] for i in scores]\n",
    "    votes = list(md['vote_average'].iloc[indices])\n",
    "    qualified_scores = []\n",
    "    for i in range(len(votes)):\n",
    "        if votes[i] >= vote:\n",
    "            qualified_scores.append(scores[i])\n",
    "    qualified_scores = qualified_scores[1:n+1]\n",
    "    indices = [i[0] for i in qualified_scores]\n",
    "    return md['title'].iloc[indices]"
   ]
  },
  {
   "cell_type": "markdown",
   "metadata": {},
   "source": [
    "### Test two recommenders\n",
    "\n",
    "We will compare the two recommenders: the recommender based on overview and tagline VS the recommender based on genres, cast, crew, and keywords."
   ]
  },
  {
   "cell_type": "code",
   "execution_count": 28,
   "metadata": {},
   "outputs": [
    {
     "data": {
      "text/plain": [
       "18750                                The Shrine\n",
       "9235                                   The Hole\n",
       "28871                        Des roses en hiver\n",
       "21908                               Mood Indigo\n",
       "28720                                 Vuonna 85\n",
       "38831                                Vinodentro\n",
       "33337                                    Let Go\n",
       "14668                 The Princess and the Frog\n",
       "41438                                  Our Gang\n",
       "44257           The Most Hated Woman in America\n",
       "17730    The Autobiography of Nicolae Ceausescu\n",
       "26638            Chestnut: Hero of Central Park\n",
       "3862                                    Haunted\n",
       "15667                            The Karate Kid\n",
       "33282                          Mary of Nazareth\n",
       "1957                    Flight of the Navigator\n",
       "25279                          Listen Up Philip\n",
       "42264               Trancers 6: Life After Deth\n",
       "20855      Big Girls Don't Cry... They Get Even\n",
       "25859                              Fighting Mad\n",
       "Name: title, dtype: object"
      ]
     },
     "execution_count": 28,
     "metadata": {},
     "output_type": "execute_result"
    }
   ],
   "source": [
    "get_recommendations_cs('The Dark Knight') # based on overview and tagline"
   ]
  },
  {
   "cell_type": "code",
   "execution_count": 29,
   "metadata": {},
   "outputs": [
    {
     "data": {
      "text/plain": [
       "18442                                The Dark Knight Rises\n",
       "10210                                        Batman Begins\n",
       "11463                                         The Prestige\n",
       "2486                                             Following\n",
       "15651                                            Inception\n",
       "4126                                               Memento\n",
       "5302                                              Insomnia\n",
       "164                                          Feast of July\n",
       "20253                                         Jack Reacher\n",
       "3799                                    The Way of the Gun\n",
       "10241                                           Retrograde\n",
       "23668                   Mission: Impossible - Rogue Nation\n",
       "8243                                  Whispers in the Dark\n",
       "10639                                                Creep\n",
       "463      The Englishman Who Went Up a Hill But Came Dow...\n",
       "34                                              Carrington\n",
       "3814                                          Best in Show\n",
       "11348                                            Severance\n",
       "2456                                        Wing Commander\n",
       "32829                Scouts Guide to the Zombie Apocalypse\n",
       "Name: title, dtype: object"
      ]
     },
     "execution_count": 29,
     "metadata": {},
     "output_type": "execute_result"
    }
   ],
   "source": [
    "get_recommendations_cs('The Dark Knight', recommender = alter) # based on director, actors, screeplay, and keywords"
   ]
  },
  {
   "cell_type": "code",
   "execution_count": 51,
   "metadata": {},
   "outputs": [
    {
     "data": {
      "text/plain": [
       "11074                              Cars\n",
       "3024                        Toy Story 2\n",
       "17551                            Cars 2\n",
       "2262                       A Bug's Life\n",
       "13624    Dr. Horrible's Sing-Along Blog\n",
       "18008                      The Avengers\n",
       "21498              Sky West and Crooked\n",
       "16475                   The Company Men\n",
       "4902                       Joe Somebody\n",
       "1903                     Child's Play 2\n",
       "4973                            Seconds\n",
       "8673               The Hallelujah Trail\n",
       "12455                         3 Bad Men\n",
       "4229                 The Horse Soldiers\n",
       "26423                      Pickup Alley\n",
       "8010               How the West Was Won\n",
       "8092                            Biggles\n",
       "961                             Algiers\n",
       "6370          Heaven Knows, Mr. Allison\n",
       "6478                          Curly Sue\n",
       "Name: title, dtype: object"
      ]
     },
     "execution_count": 51,
     "metadata": {},
     "output_type": "execute_result"
    }
   ],
   "source": [
    "get_recommendations_cs('Toy Story', recommender = alter) # based on director, actors, screeplay, and keywords"
   ]
  },
  {
   "cell_type": "code",
   "execution_count": 56,
   "metadata": {},
   "outputs": [
    {
     "data": {
      "text/plain": [
       "1                            Jumanji\n",
       "2                   Grumpier Old Men\n",
       "3                  Waiting to Exhale\n",
       "4        Father of the Bride Part II\n",
       "5                               Heat\n",
       "6                            Sabrina\n",
       "7                       Tom and Huck\n",
       "8                       Sudden Death\n",
       "9                          GoldenEye\n",
       "10            The American President\n",
       "11       Dracula: Dead and Loving It\n",
       "12                             Balto\n",
       "13                             Nixon\n",
       "14                  Cutthroat Island\n",
       "15                            Casino\n",
       "16             Sense and Sensibility\n",
       "17                        Four Rooms\n",
       "18    Ace Ventura: When Nature Calls\n",
       "19                       Money Train\n",
       "20                        Get Shorty\n",
       "Name: title, dtype: object"
      ]
     },
     "execution_count": 56,
     "metadata": {},
     "output_type": "execute_result"
    }
   ],
   "source": [
    "get_recommendations_cs('The Bat Man', recommender = alter)"
   ]
  },
  {
   "cell_type": "markdown",
   "metadata": {},
   "source": [
    "## Output the dataset"
   ]
  },
  {
   "cell_type": "code",
   "execution_count": 53,
   "metadata": {},
   "outputs": [],
   "source": [
    "df = md[['id','title','vote_average','vote_count','general','meta','imdb_id']]"
   ]
  },
  {
   "cell_type": "code",
   "execution_count": 54,
   "metadata": {},
   "outputs": [
    {
     "data": {
      "text/html": [
       "<div>\n",
       "<style scoped>\n",
       "    .dataframe tbody tr th:only-of-type {\n",
       "        vertical-align: middle;\n",
       "    }\n",
       "\n",
       "    .dataframe tbody tr th {\n",
       "        vertical-align: top;\n",
       "    }\n",
       "\n",
       "    .dataframe thead th {\n",
       "        text-align: right;\n",
       "    }\n",
       "</style>\n",
       "<table border=\"1\" class=\"dataframe\">\n",
       "  <thead>\n",
       "    <tr style=\"text-align: right;\">\n",
       "      <th></th>\n",
       "      <th>id</th>\n",
       "      <th>title</th>\n",
       "      <th>vote_average</th>\n",
       "      <th>vote_count</th>\n",
       "      <th>general</th>\n",
       "      <th>meta</th>\n",
       "      <th>imdb_id</th>\n",
       "    </tr>\n",
       "  </thead>\n",
       "  <tbody>\n",
       "    <tr>\n",
       "      <td>0</td>\n",
       "      <td>862</td>\n",
       "      <td>Toy Story</td>\n",
       "      <td>7.7</td>\n",
       "      <td>5415.0</td>\n",
       "      <td>led by woody andys toy live happily in his roo...</td>\n",
       "      <td>john lasseter john lasseter john lasseter john...</td>\n",
       "      <td>tt0114709</td>\n",
       "    </tr>\n",
       "    <tr>\n",
       "      <td>1</td>\n",
       "      <td>8844</td>\n",
       "      <td>Jumanji</td>\n",
       "      <td>6.9</td>\n",
       "      <td>2413.0</td>\n",
       "      <td>when sibling judy and peter discover an enchan...</td>\n",
       "      <td>joe johnston joe johnston joe johnston joe joh...</td>\n",
       "      <td>tt0113497</td>\n",
       "    </tr>\n",
       "    <tr>\n",
       "      <td>2</td>\n",
       "      <td>15602</td>\n",
       "      <td>Grumpier Old Men</td>\n",
       "      <td>6.5</td>\n",
       "      <td>92.0</td>\n",
       "      <td>a family wedding reignites the ancient feud be...</td>\n",
       "      <td></td>\n",
       "      <td>tt0113228</td>\n",
       "    </tr>\n",
       "    <tr>\n",
       "      <td>3</td>\n",
       "      <td>31357</td>\n",
       "      <td>Waiting to Exhale</td>\n",
       "      <td>6.1</td>\n",
       "      <td>34.0</td>\n",
       "      <td>cheated on mistreated and stepped on the woman...</td>\n",
       "      <td>forest whitaker forest whitaker forest whitake...</td>\n",
       "      <td>tt0114885</td>\n",
       "    </tr>\n",
       "    <tr>\n",
       "      <td>4</td>\n",
       "      <td>11862</td>\n",
       "      <td>Father of the Bride Part II</td>\n",
       "      <td>5.7</td>\n",
       "      <td>173.0</td>\n",
       "      <td>just when george bank ha recovered from his da...</td>\n",
       "      <td>charles shyer charles shyer charles shyer char...</td>\n",
       "      <td>tt0113041</td>\n",
       "    </tr>\n",
       "    <tr>\n",
       "      <td>...</td>\n",
       "      <td>...</td>\n",
       "      <td>...</td>\n",
       "      <td>...</td>\n",
       "      <td>...</td>\n",
       "      <td>...</td>\n",
       "      <td>...</td>\n",
       "      <td>...</td>\n",
       "    </tr>\n",
       "    <tr>\n",
       "      <td>46623</td>\n",
       "      <td>439050</td>\n",
       "      <td>Subdue</td>\n",
       "      <td>4.0</td>\n",
       "      <td>1.0</td>\n",
       "      <td>rising and falling between a man and womanrisi...</td>\n",
       "      <td></td>\n",
       "      <td>tt6209470</td>\n",
       "    </tr>\n",
       "    <tr>\n",
       "      <td>46624</td>\n",
       "      <td>111109</td>\n",
       "      <td>Century of Birthing</td>\n",
       "      <td>9.0</td>\n",
       "      <td>3.0</td>\n",
       "      <td>an artist struggle to finish his work while a ...</td>\n",
       "      <td></td>\n",
       "      <td>tt2028550</td>\n",
       "    </tr>\n",
       "    <tr>\n",
       "      <td>46625</td>\n",
       "      <td>67758</td>\n",
       "      <td>Betrayal</td>\n",
       "      <td>3.8</td>\n",
       "      <td>6.0</td>\n",
       "      <td>when one of her hit go wrong a professional as...</td>\n",
       "      <td>mark l. lester mark l. lester mark l. lester m...</td>\n",
       "      <td>tt0303758</td>\n",
       "    </tr>\n",
       "    <tr>\n",
       "      <td>46626</td>\n",
       "      <td>227506</td>\n",
       "      <td>Satan Triumphant</td>\n",
       "      <td>0.0</td>\n",
       "      <td>0.0</td>\n",
       "      <td>in a small town live two brother one a ministe...</td>\n",
       "      <td></td>\n",
       "      <td>tt0008536</td>\n",
       "    </tr>\n",
       "    <tr>\n",
       "      <td>46627</td>\n",
       "      <td>461257</td>\n",
       "      <td>Queerama</td>\n",
       "      <td>0.0</td>\n",
       "      <td>0.0</td>\n",
       "      <td>year after decriminalisation of homosexuality ...</td>\n",
       "      <td></td>\n",
       "      <td>tt6980792</td>\n",
       "    </tr>\n",
       "  </tbody>\n",
       "</table>\n",
       "<p>46628 rows × 7 columns</p>\n",
       "</div>"
      ],
      "text/plain": [
       "           id                        title  vote_average  vote_count  \\\n",
       "0         862                    Toy Story           7.7      5415.0   \n",
       "1        8844                      Jumanji           6.9      2413.0   \n",
       "2       15602             Grumpier Old Men           6.5        92.0   \n",
       "3       31357            Waiting to Exhale           6.1        34.0   \n",
       "4       11862  Father of the Bride Part II           5.7       173.0   \n",
       "...       ...                          ...           ...         ...   \n",
       "46623  439050                       Subdue           4.0         1.0   \n",
       "46624  111109          Century of Birthing           9.0         3.0   \n",
       "46625   67758                     Betrayal           3.8         6.0   \n",
       "46626  227506             Satan Triumphant           0.0         0.0   \n",
       "46627  461257                     Queerama           0.0         0.0   \n",
       "\n",
       "                                                 general  \\\n",
       "0      led by woody andys toy live happily in his roo...   \n",
       "1      when sibling judy and peter discover an enchan...   \n",
       "2      a family wedding reignites the ancient feud be...   \n",
       "3      cheated on mistreated and stepped on the woman...   \n",
       "4      just when george bank ha recovered from his da...   \n",
       "...                                                  ...   \n",
       "46623  rising and falling between a man and womanrisi...   \n",
       "46624  an artist struggle to finish his work while a ...   \n",
       "46625  when one of her hit go wrong a professional as...   \n",
       "46626  in a small town live two brother one a ministe...   \n",
       "46627  year after decriminalisation of homosexuality ...   \n",
       "\n",
       "                                                    meta    imdb_id  \n",
       "0      john lasseter john lasseter john lasseter john...  tt0114709  \n",
       "1      joe johnston joe johnston joe johnston joe joh...  tt0113497  \n",
       "2                                                         tt0113228  \n",
       "3      forest whitaker forest whitaker forest whitake...  tt0114885  \n",
       "4      charles shyer charles shyer charles shyer char...  tt0113041  \n",
       "...                                                  ...        ...  \n",
       "46623                                                     tt6209470  \n",
       "46624                                                     tt2028550  \n",
       "46625  mark l. lester mark l. lester mark l. lester m...  tt0303758  \n",
       "46626                                                     tt0008536  \n",
       "46627                                                     tt6980792  \n",
       "\n",
       "[46628 rows x 7 columns]"
      ]
     },
     "execution_count": 54,
     "metadata": {},
     "output_type": "execute_result"
    }
   ],
   "source": [
    "df"
   ]
  },
  {
   "cell_type": "code",
   "execution_count": 55,
   "metadata": {},
   "outputs": [],
   "source": [
    "import pickle\n",
    "\n",
    "pickle.dump(df, open('movies.pkl', 'wb'))\n",
    "pickle.dump(df.to_dict(), open('movies_dict.pkl', 'wb'))\n"
   ]
  },
  {
   "cell_type": "code",
   "execution_count": null,
   "metadata": {},
   "outputs": [],
   "source": []
  }
 ],
 "metadata": {
  "colab": {
   "collapsed_sections": [],
   "include_colab_link": true,
   "name": "Content-based recommendation.ipynb",
   "provenance": []
  },
  "kernelspec": {
   "display_name": "Python 3 (ipykernel)",
   "language": "python",
   "name": "python3"
  },
  "language_info": {
   "codemirror_mode": {
    "name": "ipython",
    "version": 3
   },
   "file_extension": ".py",
   "mimetype": "text/x-python",
   "name": "python",
   "nbconvert_exporter": "python",
   "pygments_lexer": "ipython3",
   "version": "3.7.4"
  }
 },
 "nbformat": 4,
 "nbformat_minor": 1
}
