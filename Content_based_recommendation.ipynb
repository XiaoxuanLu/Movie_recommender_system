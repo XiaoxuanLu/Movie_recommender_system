{
  "nbformat": 4,
  "nbformat_minor": 0,
  "metadata": {
    "colab": {
      "name": "Content-based recommendation.ipynb",
      "provenance": [],
      "collapsed_sections": [],
      "include_colab_link": true
    },
    "kernelspec": {
      "name": "python3",
      "display_name": "Python 3"
    },
    "language_info": {
      "name": "python"
    }
  },
  "cells": [
    {
      "cell_type": "markdown",
      "metadata": {
        "id": "view-in-github",
        "colab_type": "text"
      },
      "source": [
        "<a href=\"https://colab.research.google.com/github/XiaoxuanLu/Movie_recommender_system/blob/main/Content_based_recommendation.ipynb\" target=\"_parent\"><img src=\"https://colab.research.google.com/assets/colab-badge.svg\" alt=\"Open In Colab\"/></a>"
      ]
    },
    {
      "cell_type": "code",
      "execution_count": null,
      "metadata": {
        "id": "Kl5EfIbWfouK"
      },
      "outputs": [],
      "source": [
        "import string\n",
        "\n",
        "print(\"hi\")"
      ]
    },
    {
      "cell_type": "code",
      "source": [
        ""
      ],
      "metadata": {
        "id": "oHS356WFh247"
      },
      "execution_count": null,
      "outputs": []
    },
    {
      "cell_type": "markdown",
      "source": [
        "# 新段落"
      ],
      "metadata": {
        "id": "NIxhhdY4h4Ii"
      }
    },
    {
      "cell_type": "code",
      "source": [
        "import requests\n",
        "\n",
        "url=\"https://www.kaggle.com/datasets/rounakbanik/the-movies-dataset/download\"\n",
        "\n",
        "r = requests.get(url)\n",
        "\n",
        "r.headers"
      ],
      "metadata": {
        "id": "6Ih1_MNggLrP",
        "colab": {
          "base_uri": "https://localhost:8080/"
        },
        "outputId": "013344db-5c02-4b23-c23c-ae735092bb53"
      },
      "execution_count": 1,
      "outputs": [
        {
          "output_type": "execute_result",
          "data": {
            "text/plain": [
              "{'Content-Type': 'text/html; charset=utf-8', 'Date': 'Thu, 21 Apr 2022 09:57:47 GMT', 'Cache-Control': 'no-cache, no-store', 'Content-Encoding': 'gzip', 'Pragma': 'no-cache', 'Set-Cookie': 'CSRF-TOKEN=CfDJ8GDhb0sRQ19Fpvg6UQb84XGuprG3Z9egZiMPeaHp3UE7rndvWq4tkRgnJaTvpzzP1fbNqYUBhkJ2O-Wb_XBzbztD421XMs8d_8j-95uZUw; path=/; secure; samesite=lax; httponly, XSRF-TOKEN=CfDJ8GDhb0sRQ19Fpvg6UQb84XGLn-Cz8xftsKya5ljTFwKwm8_SIu--VEF_Zj_JaeAkpch9fsc9nnuI4PMc6r6uPrp_bsh9HoDhhNFju1smbUeKiA; path=/; secure; samesite=lax, CLIENT-TOKEN=eyJhbGciOiJub25lIiwidHlwIjoiSldUIn0.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.; path=/; secure; samesite=lax', 'Vary': 'Accept-Encoding', 'Turbolinks-Location': 'https://www.kaggle.com/account/login?titleType=dataset-downloads&showDatasetDownloadSkip=False&messageId=datasetsWelcome&returnUrl=%2Fdatasets%2Frounakbanik%2Fthe-movies-dataset%3Fresource%3Ddownload', 'X-Frame-Options': 'SAMEORIGIN', 'Strict-Transport-Security': 'max-age=63072000; includeSubDomains; preload', 'Content-Security-Policy': \"object-src 'none'; script-src 'nonce-vGusScAlpAdX+lcIc4uHxQ==' 'report-sample' 'unsafe-inline' 'unsafe-eval' 'strict-dynamic' https: http:; frame-src 'self' https://www.kaggleusercontent.com https://www.youtube.com/embed/ https://polygraph-cool.github.io https://www.google.com/recaptcha/ https://form.jotform.com https://submit.jotform.us https://submit.jotformpro.com https://submit.jotform.com https://www.docdroid.com https://www.docdroid.net https://kaggle-static.storage.googleapis.com https://kaggle-static-staging.storage.googleapis.com https://kkb-dev.jupyter-proxy.kaggle.net https://kkb-staging.jupyter-proxy.kaggle.net https://kkb-production.jupyter-proxy.kaggle.net https://kkb-dev.firebaseapp.com https://kkb-staging.firebaseapp.com https://kkb-production.firebaseapp.com https://kaggle-metastore-test.firebaseapp.com https://kaggle-metastore.firebaseapp.com https://apis.google.com https://content-sheets.googleapis.com/ https://accounts.google.com/ https://storage.googleapis.com https://docs.google.com https://drive.google.com; base-uri 'none'; report-uri https://csp.withgoogle.com/csp/kaggle/20201130;\", 'X-Content-Type-Options': 'nosniff', 'Referrer-Policy': 'strict-origin-when-cross-origin', 'Via': '1.1 google', 'Alt-Svc': 'h3=\":443\"; ma=2592000,h3-29=\":443\"; ma=2592000', 'Transfer-Encoding': 'chunked'}"
            ]
          },
          "metadata": {},
          "execution_count": 1
        }
      ]
    }
  ]
}